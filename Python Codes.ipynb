{
 "cells": [
  {
   "cell_type": "markdown",
   "metadata": {},
   "source": [
    "**Python Basic Codes"
   ]
  },
  {
   "cell_type": "code",
   "execution_count": 58,
   "metadata": {},
   "outputs": [
    {
     "data": {
      "text/plain": [
       "6"
      ]
     },
     "execution_count": 58,
     "metadata": {},
     "output_type": "execute_result"
    }
   ],
   "source": [
    "#Addition \n",
    "def add(num1, num2):\n",
    "    addition = num1 + num2\n",
    "    return addition\n",
    "\n",
    "add(2,4)"
   ]
  },
  {
   "cell_type": "code",
   "execution_count": 11,
   "metadata": {},
   "outputs": [
    {
     "data": {
      "text/plain": [
       "6"
      ]
     },
     "execution_count": 11,
     "metadata": {},
     "output_type": "execute_result"
    }
   ],
   "source": [
    "#Find the factorial of given number\n",
    "def factorial(n):\n",
    "    return 1 if (n==1 or n==0) else n * factorial(n-1)\n",
    "\n",
    "factorial(3)"
   ]
  },
  {
   "cell_type": "code",
   "execution_count": 14,
   "metadata": {},
   "outputs": [
    {
     "data": {
      "text/plain": [
       "3.14"
      ]
     },
     "execution_count": 14,
     "metadata": {},
     "output_type": "execute_result"
    }
   ],
   "source": [
    "#Area of Circle\n",
    "def areaofCircle(r):\n",
    "    pi = 3.14\n",
    "    area = pi * (r*r)\n",
    "    return area\n",
    "    \n",
    "areaofCircle(1)"
   ]
  },
  {
   "cell_type": "code",
   "execution_count": 18,
   "metadata": {},
   "outputs": [
    {
     "name": "stdout",
     "output_type": "stream",
     "text": [
      "5 Number is a Prime No\n"
     ]
    }
   ],
   "source": [
    "#Find out the number is prime or not\n",
    "def primeNumber(num):\n",
    "    if num > 1:\n",
    "        for i in range(2, num):\n",
    "            if (num % 2) == 0:\n",
    "                print(num, \"Number is Not prime No\")\n",
    "                break\n",
    "        else:\n",
    "            print(num, \"Number is a Prime No\")\n",
    "    else:\n",
    "        print(num, \"Number is not prime No\")\n",
    "        \n",
    "primeNumber(5)"
   ]
  },
  {
   "cell_type": "code",
   "execution_count": null,
   "metadata": {},
   "outputs": [],
   "source": [
    "#Function for n-th Fabonacci Number\n",
    "def fabonacciNumber(num):\n",
    "    if num < 0:\n",
    "        print(num, \"Incorrect Input\")\n",
    "    elif num == 1:\n",
    "        return 0\n",
    "    elif num == 2:\n",
    "        return 1\n",
    "    else:\n",
    "        return fabonacciNumber(num-1) + fabonacciNumber(num-2)\n",
    "    \n",
    "fabonacciNumber(2)"
   ]
  },
  {
   "cell_type": "code",
   "execution_count": 3,
   "metadata": {},
   "outputs": [
    {
     "data": {
      "text/plain": [
       "'dcba'"
      ]
     },
     "execution_count": 3,
     "metadata": {},
     "output_type": "execute_result"
    }
   ],
   "source": [
    "#Reverse a string shortcut\n",
    "st = \"abcd\"\n",
    "st[::-1]"
   ]
  },
  {
   "cell_type": "code",
   "execution_count": 16,
   "metadata": {},
   "outputs": [
    {
     "data": {
      "text/plain": [
       "9"
      ]
     },
     "execution_count": 16,
     "metadata": {},
     "output_type": "execute_result"
    }
   ],
   "source": [
    "#Sum of Array\n",
    "def sumArray(arr, n):\n",
    "    return(sum(arr))\n",
    "#Driver_function\n",
    "arr = []\n",
    "arr = [1,2,3,1,2]\n",
    "n = len(arr)\n",
    "\n",
    "sumArray(arr, n)"
   ]
  },
  {
   "cell_type": "code",
   "execution_count": 28,
   "metadata": {},
   "outputs": [
    {
     "name": "stdout",
     "output_type": "stream",
     "text": [
      "The largest element of array is: 102.5\n"
     ]
    }
   ],
   "source": [
    "#Find Largest element in an array\n",
    "def largestElement(arr, n):\n",
    "    max = arr[0]\n",
    "    for i in range(1, n):\n",
    "        if arr[i] > max:\n",
    "            max = arr[i]\n",
    "    return max\n",
    "#Driver_function\n",
    "arr = [2,5,6,1,102.5]\n",
    "n = len(arr)\n",
    "Ans = largestElement(arr, n)\n",
    "print(\"The largest element of array is:\", Ans)"
   ]
  },
  {
   "cell_type": "code",
   "execution_count": 40,
   "metadata": {},
   "outputs": [
    {
     "name": "stdout",
     "output_type": "stream",
     "text": [
      "Value of x after swapping: 7\n",
      "Value of y after swapping: 5\n"
     ]
    }
   ],
   "source": [
    "#Swap Numbers\n",
    "x = 5\n",
    "y = 7\n",
    "temp = x\n",
    "x = y\n",
    "y = temp\n",
    "print(\"Value of x after swapping:\", format(x))\n",
    "print(\"Value of y after swapping:\", format(y))"
   ]
  },
  {
   "cell_type": "code",
   "execution_count": 44,
   "metadata": {},
   "outputs": [
    {
     "data": {
      "text/plain": [
       "[2, 4, 3, 9]"
      ]
     },
     "execution_count": 44,
     "metadata": {},
     "output_type": "execute_result"
    }
   ],
   "source": [
    "#Swap Numbers using list\n",
    "def swapNumbers(list, pos1, pos2):\n",
    "    list[pos1], list[pos2] = list[pos2], list[pos1]\n",
    "    return list\n",
    "list = [2, 3, 4, 9]\n",
    "pos1, pos2 = 1, 2\n",
    "swapNumbers(list, pos1, pos2)"
   ]
  },
  {
   "cell_type": "code",
   "execution_count": 45,
   "metadata": {},
   "outputs": [
    {
     "name": "stdout",
     "output_type": "stream",
     "text": [
      "Tushar\n",
      "24\n"
     ]
    }
   ],
   "source": [
    "class Person:\n",
    "    def __init__(self, name, age):\n",
    "        self.name = name\n",
    "        self.age = age\n",
    "        \n",
    "p1 = Person(\"Tushar\", 24)\n",
    "\n",
    "print(p1.name)\n",
    "print(p1.age)"
   ]
  },
  {
   "cell_type": "code",
   "execution_count": 53,
   "metadata": {},
   "outputs": [
    {
     "name": "stdout",
     "output_type": "stream",
     "text": [
      "Blue Black Red Blue\n"
     ]
    }
   ],
   "source": [
    "class partsColor:\n",
    "    \"creates a class\"\n",
    "    def __init__(self):\n",
    "        \"create new color for each part\"\n",
    "        self.hoods = \"Blue\"\n",
    "        self.doors = \"Red\"\n",
    "        self.pen = \"Black\"\n",
    "a = partsColor()\n",
    "b = partsColor()\n",
    "        \n",
    "print(a.hoods, a.pen, b.doors, b.hoods)"
   ]
  },
  {
   "cell_type": "code",
   "execution_count": 59,
   "metadata": {},
   "outputs": [
    {
     "data": {
      "text/plain": [
       "[4, 3, 2, 1]"
      ]
     },
     "execution_count": 59,
     "metadata": {},
     "output_type": "execute_result"
    }
   ],
   "source": [
    "#Reversing a list\n",
    "def reverseList(lst):\n",
    "    lst.reverse()\n",
    "    return lst\n",
    "lst = [1,2,3,4]\n",
    "reverseList(lst)"
   ]
  },
  {
   "cell_type": "code",
   "execution_count": 4,
   "metadata": {},
   "outputs": [
    {
     "data": {
      "text/plain": [
       "'best the is India'"
      ]
     },
     "execution_count": 4,
     "metadata": {},
     "output_type": "execute_result"
    }
   ],
   "source": [
    "#fuction to reverse a string\n",
    "def reverseString(string):\n",
    "    words = string.split()\n",
    "    reverse_sentence = ' '.join(reversed(words))\n",
    "    return reverse_sentence\n",
    "\n",
    "input = \"India is the best\"\n",
    "reverseString(input)"
   ]
  },
  {
   "cell_type": "code",
   "execution_count": 15,
   "metadata": {},
   "outputs": [
    {
     "data": {
      "text/plain": [
       "6"
      ]
     },
     "execution_count": 15,
     "metadata": {},
     "output_type": "execute_result"
    }
   ],
   "source": [
    "#Find Length of a string\n",
    "def length(string):\n",
    "    counter = 0\n",
    "    for i in string:\n",
    "        counter += 1\n",
    "    return counter\n",
    "string = \"Tushar\"\n",
    "length(string)"
   ]
  },
  {
   "cell_type": "code",
   "execution_count": 28,
   "metadata": {},
   "outputs": [
    {
     "name": "stdout",
     "output_type": "stream",
     "text": [
      "Duplicates Found\n"
     ]
    }
   ],
   "source": [
    "#find whether duplicates there in the list or not\n",
    "def duplicates(lst):\n",
    "    if len(set(lst)) == len(lst):\n",
    "        print(\"No Duplicates Found\")\n",
    "    else:\n",
    "        print(\"Duplicates Found\")\n",
    "        \n",
    "lst = [\"1\", \"2\", \"5\", \"8\", \"2\"]\n",
    "duplicates(lst)        "
   ]
  },
  {
   "cell_type": "code",
   "execution_count": 42,
   "metadata": {},
   "outputs": [
    {
     "data": {
      "text/plain": [
       "{'email': 'bt@gmail', 'phn no': '123'}"
      ]
     },
     "execution_count": 42,
     "metadata": {},
     "output_type": "execute_result"
    }
   ],
   "source": [
    "dicti = {'name':'tushar', 'email':'bt@gmail', 'phn no':'123'}\n",
    "del dicti['name']\n",
    "dicti"
   ]
  },
  {
   "cell_type": "code",
   "execution_count": null,
   "metadata": {},
   "outputs": [],
   "source": []
  },
  {
   "cell_type": "code",
   "execution_count": null,
   "metadata": {},
   "outputs": [],
   "source": []
  },
  {
   "cell_type": "code",
   "execution_count": null,
   "metadata": {},
   "outputs": [],
   "source": []
  }
 ],
 "metadata": {
  "kernelspec": {
   "display_name": "Python 3",
   "language": "python",
   "name": "python3"
  },
  "language_info": {
   "codemirror_mode": {
    "name": "ipython",
    "version": 3
   },
   "file_extension": ".py",
   "mimetype": "text/x-python",
   "name": "python",
   "nbconvert_exporter": "python",
   "pygments_lexer": "ipython3",
   "version": "3.6.0"
  }
 },
 "nbformat": 4,
 "nbformat_minor": 2
}
